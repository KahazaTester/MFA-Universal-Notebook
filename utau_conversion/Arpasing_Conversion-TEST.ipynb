{
  "nbformat": 4,
  "nbformat_minor": 0,
  "metadata": {
    "colab": {
      "provenance": [],
      "gpuType": "T4",
      "private_outputs": true,
      "include_colab_link": true
    },
    "kernelspec": {
      "name": "python3",
      "display_name": "Python 3"
    },
    "language_info": {
      "name": "python"
    },
    "accelerator": "GPU"
  },
  "cells": [
    {
      "cell_type": "markdown",
      "metadata": {
        "id": "view-in-github",
        "colab_type": "text"
      },
      "source": [
        "<a href=\"https://colab.research.google.com/github/gnloop/MFA-Universal-Notebook/blob/slicer/utau_conversion/Arpasing_Conversion-TEST.ipynb\" target=\"_parent\"><img src=\"https://colab.research.google.com/assets/colab-badge.svg\" alt=\"Open In Colab\"/></a>"
      ]
    },
    {
      "cell_type": "markdown",
      "source": [
        "# **[Montreal Forced Aligner](https://montreal-forced-aligner.readthedocs.io/)**\n",
        "_Command line utility for forced alignment using Kaldi_\n",
        "\n",
        "\\\n",
        "____\n",
        "\\\n",
        "\n",
        "## _Tool to automatically convert Arpasing voicebanks into datasets for DiffSinger_\n",
        "\n",
        "# Known issues:\n",
        "### - No support for 'q' phoneme\n",
        "\\\n",
        "____\n"
      ],
      "metadata": {
        "id": "sfxFpUjTLMzO"
      }
    },
    {
      "cell_type": "markdown",
      "source": [
        "# Huge thanks to PixPrucer and HAI-D for basically making every part of this notebook. I just updated things around basically ⛹"
      ],
      "metadata": {
        "id": "M52QImcigVUk"
      }
    },
    {
      "cell_type": "code",
      "source": [
        "#@title Mount Drive\n",
        "from google.colab import drive\n",
        "drive.mount('/content/drive')"
      ],
      "metadata": {
        "cellView": "form",
        "id": "jpHc_ficaXQZ"
      },
      "execution_count": null,
      "outputs": []
    },
    {
      "cell_type": "code",
      "source": [
        "#@title Install Condacolab\n",
        "#@markdown The session will crash and restart, that's normal!\n",
        "!pip install -q condacolab\n",
        "import condacolab\n",
        "condacolab.install()\n",
        "from IPython.display import clear_output\n",
        "clear_output()\n",
        "print(\"All done, please wait for the session to restart!\")"
      ],
      "metadata": {
        "cellView": "form",
        "id": "REIZax_Ym2cp"
      },
      "execution_count": null,
      "outputs": []
    },
    {
      "cell_type": "code",
      "source": [
        "#@title Install MFA\n",
        "!conda install -c conda-forge montreal-forced-aligner spacy sudachipy sudachidict-core\n",
        "!pip install speechbrain\n",
        "!mfa model download acoustic english_us_arpa\n",
        "from IPython.display import clear_output\n",
        "clear_output()\n",
        "print(\"All done!\")"
      ],
      "metadata": {
        "cellView": "form",
        "id": "NsO6Mrgmm5QZ"
      },
      "execution_count": null,
      "outputs": []
    },
    {
      "cell_type": "code",
      "source": [
        "#@title Unzip VB and generate transcriptions\n",
        "#@markdown Unzip your voicebank, make sure it is a zip file with ONLY .wav files and an index.csv file! (one pitch only)\n",
        "\n",
        "file_location = '/content/drive/MyDrive/wav.zip' #@param {type:\"string\"}\n",
        "\n",
        "!7z x \"$file_location\" -o/content/db\n",
        "\n",
        "import csv\n",
        "import os\n",
        "import re\n",
        "\n",
        "# Path to the index.csv file and the /content/db folder\n",
        "index_file = '/content/db/index.csv'\n",
        "db_folder = '/content/db'\n",
        "\n",
        "# Open the index.csv file for reading\n",
        "with open(index_file, 'r') as csvfile:\n",
        "    # Create a CSV reader object\n",
        "    reader = csv.reader(csvfile)\n",
        "\n",
        "    # Iterate over each row in the CSV file\n",
        "    for row in reader:\n",
        "        # Extract the wav filename and the corresponding text\n",
        "        wav_filename = row[0]\n",
        "        text = row[1]\n",
        "\n",
        "        # Create the full path for the output txt file\n",
        "        txt_filepath = os.path.join(db_folder, wav_filename[:-4] + '.txt')  #[:-4] part is to remove \".wav\"\n",
        "\n",
        "        # Open the txt file for writing\n",
        "        with open(txt_filepath, 'w') as txtfile:\n",
        "            # Write the text to the txt file\n",
        "            txtfile.write(text)\n",
        "\n",
        "\n",
        "# Path to the output folder for custom.dict\n",
        "output_folder = '/root/Documents/MFA/pretrained_models/dictionary'\n",
        "\n",
        "# Create the output folder if it doesn't exist\n",
        "os.makedirs(output_folder, exist_ok=True)\n",
        "\n",
        "# Define the vowel sequences to modify (including IY)\n",
        "vowel_sequences = [\"AA\", \"AE\", \"AH\", \"AO\", \"AX\", \"EH\", \"IH\", \"UH\", \"UW\", \"AW\", \"AY\", \"EY\", \"OW\", \"OY\", \"IY\", \"ER\"]\n",
        "\n",
        "# Create and write to the custom.dict file\n",
        "with open(os.path.join(output_folder, 'custom.dict'), 'w') as f:\n",
        "    for filename in os.listdir(db_folder):\n",
        "        if filename.endswith('.txt'):\n",
        "            # Read the content of the text file\n",
        "            with open(os.path.join(db_folder, filename), 'r') as txtfile:\n",
        "                content = txtfile.read().strip()\n",
        "\n",
        "            # Create the modified content\n",
        "            modified_content = content.replace('_', ' ').upper()\n",
        "\n",
        "            # Add \"1\" after specific vowel sequences in the modified content\n",
        "            for sequence in vowel_sequences:\n",
        "                modified_content = modified_content.replace(sequence, sequence + \"1\")\n",
        "\n",
        "            # Write the original and modified content to the custom.dict file\n",
        "            f.write(f\"{content}\\t{modified_content}\\n\")\n",
        "\n",
        "from IPython.display import clear_output\n",
        "clear_output()\n",
        "print(\"Wavs extracted, transcriptions and custom dictionary generated. To check if it worked, go to /root/Documents/MFA/pretrained_models/dictionary\")"
      ],
      "metadata": {
        "cellView": "form",
        "id": "NIJNjFTEav8z"
      },
      "execution_count": null,
      "outputs": []
    },
    {
      "cell_type": "code",
      "source": [
        "#@title Start aligning!\n",
        "!mfa align /content/db custom english_us_arpa /content/alignment --beam 400\n",
        "from IPython.display import clear_output\n",
        "clear_output()\n",
        "print(\"All done! Check the 'alignment' folder for .TextGrid files\")"
      ],
      "metadata": {
        "id": "6mU0FwKceLIL",
        "cellView": "form"
      },
      "execution_count": null,
      "outputs": []
    },
    {
      "cell_type": "code",
      "source": [
        "#@title Install TextGrid to LAB converter\n",
        "!pip install mytextgrid\n",
        "!git clone https://github.com/gnloop/MFA-Universal-Notebook\n",
        "!mv /content/MFA-Universal-Notebook/text2lab_test.py /content/alignment/\n",
        "from IPython.display import clear_output\n",
        "clear_output()\n",
        "print(\"All done!\")"
      ],
      "metadata": {
        "id": "TTbvrwN6HEsx",
        "cellView": "form"
      },
      "execution_count": null,
      "outputs": []
    },
    {
      "cell_type": "code",
      "source": [
        "#@title Convert TextGrid to LAB\n",
        "!python -X utf8 /content/alignment/text2lab_test.py -c /content/MFA-Universal-Notebook/converters/converter_EN-ARPA.txt\n",
        "from IPython.display import clear_output\n",
        "clear_output()\n",
        "print(\"Your .lab files should now be under the 'alignment' folder!\")\n"
      ],
      "metadata": {
        "cellView": "form",
        "id": "bi7CR7lNKTfW"
      },
      "execution_count": null,
      "outputs": []
    },
    {
      "cell_type": "code",
      "source": [
        "#@title Zip output\n",
        "# @markdown Enter the path where you want your labels saved (no / at the end)\n",
        "zip_path = '/content/drive/MyDrive/MFA_output' #@param {type:\"string\"}\n",
        "from IPython.display import display, HTML, Javascript\n",
        "import os\n",
        "\n",
        "# Create the directory if it doesn't exist\n",
        "os.makedirs(zip_path, exist_ok=True)\n",
        "\n",
        "# Zip labels\n",
        "!zip -j {zip_path}/labels.zip /content/alignment/*.lab\n",
        "\n",
        "from IPython.display import clear_output\n",
        "clear_output()\n",
        "print(\"You can now download your labels in the labels.zip file and wavs in the sliced_wavs.zip file!\")"
      ],
      "metadata": {
        "id": "uRn0oWwkM5ny",
        "cellView": "form"
      },
      "execution_count": null,
      "outputs": []
    }
  ]
}