{
  "nbformat": 4,
  "nbformat_minor": 0,
  "metadata": {
    "colab": {
      "provenance": [],
      "gpuType": "T4",
      "private_outputs": true,
      "include_colab_link": true
    },
    "kernelspec": {
      "name": "python3",
      "display_name": "Python 3"
    },
    "language_info": {
      "name": "python"
    },
    "accelerator": "GPU"
  },
  "cells": [
    {
      "cell_type": "markdown",
      "metadata": {
        "id": "view-in-github",
        "colab_type": "text"
      },
      "source": [
        "<a href=\"https://colab.research.google.com/github/gnloop/MFA-Universal-Notebook/blob/slicer/utau_conversion/Japanese-Conversion-BAD.ipynb\" target=\"_parent\"><img src=\"https://colab.research.google.com/assets/colab-badge.svg\" alt=\"Open In Colab\"/></a>"
      ]
    },
    {
      "cell_type": "markdown",
      "source": [
        "# **[Montreal Forced Aligner](https://montreal-forced-aligner.readthedocs.io/)**\n",
        "_Command line utility for forced alignment using Kaldi_\n",
        "\n",
        "\\\n",
        "____\n",
        "\\\n",
        "\n",
        "## _Tool to automatically convert hiragana voicebanks into datasets for DiffSinger_\n",
        "\n",
        "\\\n",
        "____\n"
      ],
      "metadata": {
        "id": "sfxFpUjTLMzO"
      }
    },
    {
      "cell_type": "markdown",
      "source": [
        "# Huge thanks to PixPrucer and HAI-D for basically making every part of this notebook. I just updated things around basically ⛹"
      ],
      "metadata": {
        "id": "M52QImcigVUk"
      }
    },
    {
      "cell_type": "code",
      "source": [
        "#@title Mount Drive\n",
        "from google.colab import drive\n",
        "drive.mount('/content/drive')"
      ],
      "metadata": {
        "cellView": "form",
        "id": "jpHc_ficaXQZ"
      },
      "execution_count": null,
      "outputs": []
    },
    {
      "cell_type": "code",
      "source": [
        "#@title Install Condacolab\n",
        "#@markdown The session will crash and restart, that's normal!\n",
        "!pip install -q condacolab\n",
        "import condacolab\n",
        "condacolab.install()\n",
        "from IPython.display import clear_output\n",
        "clear_output()\n",
        "print(\"All done, please wait for the session to restart!\")"
      ],
      "metadata": {
        "cellView": "form",
        "id": "REIZax_Ym2cp"
      },
      "execution_count": null,
      "outputs": []
    },
    {
      "cell_type": "code",
      "source": [
        "#@title Install MFA\n",
        "!conda install -c conda-forge montreal-forced-aligner spacy sudachipy sudachidict-core\n",
        "!pip install speechbrain\n",
        "!git clone https://github.com/gnloop/MFA-Universal-Notebook\n",
        "!mfa model download acoustic japanese_mfa\n",
        "!cp /content/MFA-Universal-Notebook/utau_conversion/jpn_utau.dict /root/Documents/MFA/pretrained_models/dictionary\n",
        "from IPython.display import clear_output\n",
        "clear_output()\n",
        "print(\"All done!\")"
      ],
      "metadata": {
        "cellView": "form",
        "id": "NsO6Mrgmm5QZ"
      },
      "execution_count": null,
      "outputs": []
    },
    {
      "cell_type": "code",
      "source": [
        "#@title Unzip VB and generate & edit transcriptions\n",
        "#@markdown Unzip your voicebank, make sure it is a zip file with ONLY .wav files encoded in hiragana. It is HIGHLY recommended to only work on one pitch at a time. Please note that anything that isn't standard hiragana might not work.\n",
        "\n",
        "file_location = '/content/drive/MyDrive/wav.zip' #@param {type:\"string\"}\n",
        "\n",
        "!7z x \"$file_location\" -o/content/db\n",
        "import os\n",
        "import re\n",
        "\n",
        "def extract_hiragana(wav_filename):\n",
        "    \"\"\"Extracts hiragana characters from a filename.\"\"\"\n",
        "    hiragana_only = re.sub(r\"[^ぁ-んァ-ン]\", \"\", wav_filename)\n",
        "    return hiragana_only\n",
        "\n",
        "def generate_and_modify_txt_files(input_folder, output_folder):\n",
        "    \"\"\"Generates and modifies .txt files containing hiragana from .wav filenames.\"\"\"\n",
        "    for filename in os.listdir(input_folder):\n",
        "        if filename.endswith(\".wav\"):\n",
        "            wav_filepath = os.path.join(input_folder, filename)\n",
        "            hiragana_text = extract_hiragana(filename)\n",
        "\n",
        "            txt_filename = os.path.splitext(filename)[0] + \".txt\"\n",
        "            txt_filepath = os.path.join(output_folder, txt_filename)\n",
        "\n",
        "            with open(txt_filepath, \"w\", encoding=\"utf-8\") as txt_file:\n",
        "                # Directly write the modified content with spaces:\n",
        "                modified_content = re.sub(r\"([ぁ-んー][ゃゅょっゎァィゥェォぁぃぅぇぉ]?)\", r\"\\1 \", hiragana_text)\n",
        "                modified_content = re.sub(r\" +\", \" \", modified_content)  # Remove extra spaces\n",
        "                txt_file.write(modified_content)\n",
        "\n",
        "# Set the input and output folders\n",
        "input_folder = \"/content/db\"\n",
        "output_folder = \"/content/db\"  # Save .txt files in the same folder as .wav files\n",
        "\n",
        "# Generate and modify the .txt files\n",
        "generate_and_modify_txt_files(input_folder, output_folder)\n",
        "from IPython.display import clear_output\n",
        "clear_output()\n",
        "print(\"Wavs extracted and transcriptions generated & edited automatically in db folder\")"
      ],
      "metadata": {
        "cellView": "form",
        "id": "NIJNjFTEav8z"
      },
      "execution_count": null,
      "outputs": []
    },
    {
      "cell_type": "code",
      "source": [
        "#@title Start aligning!\n",
        "!mfa align /content/db jpn_utau japanese_mfa /content/alignment --beam 400\n",
        "from IPython.display import clear_output\n",
        "clear_output()\n",
        "print(\"All done! Check the 'alignment' folder for .TextGrid files\")"
      ],
      "metadata": {
        "id": "6mU0FwKceLIL",
        "cellView": "form"
      },
      "execution_count": null,
      "outputs": []
    },
    {
      "cell_type": "code",
      "source": [
        "#@title Install TextGrid to LAB converter\n",
        "!pip install mytextgrid\n",
        "!mv /content/MFA-Universal-Notebook/text2lab_test.py /content/alignment/\n",
        "from IPython.display import clear_output\n",
        "clear_output()\n",
        "print(\"All done!\")"
      ],
      "metadata": {
        "id": "TTbvrwN6HEsx",
        "cellView": "form"
      },
      "execution_count": null,
      "outputs": []
    },
    {
      "cell_type": "code",
      "source": [
        "#@title Convert TextGrid to LAB\n",
        "!python -X utf8 /content/alignment/text2lab_test.py -c /content/MFA-Universal-Notebook/converters/converter_JP.txt\n",
        "from IPython.display import clear_output\n",
        "clear_output()\n",
        "print(\"Your .lab files should now be under the 'alignment' folder!\")\n"
      ],
      "metadata": {
        "cellView": "form",
        "id": "bi7CR7lNKTfW"
      },
      "execution_count": null,
      "outputs": []
    },
    {
      "cell_type": "code",
      "source": [
        "#@title Zip output\n",
        "# @markdown Enter the path where you want your labels saved (no / at the end)\n",
        "zip_path = '/content/drive/MyDrive/MFA_output' #@param {type:\"string\"}\n",
        "from IPython.display import display, HTML, Javascript\n",
        "import os\n",
        "\n",
        "# Create the directory if it doesn't exist\n",
        "os.makedirs(zip_path, exist_ok=True)\n",
        "\n",
        "# Zip labels\n",
        "!zip -j {zip_path}/labels.zip /content/alignment/*.lab\n",
        "\n",
        "from IPython.display import clear_output\n",
        "clear_output()\n",
        "print(\"You can now download your labels in the labels.zip file and wavs in the sliced_wavs.zip file!\")"
      ],
      "metadata": {
        "id": "uRn0oWwkM5ny",
        "cellView": "form"
      },
      "execution_count": null,
      "outputs": []
    }
  ]
}